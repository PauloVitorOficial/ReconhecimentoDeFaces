{
 "cells": [
  {
   "cell_type": "markdown",
   "id": "ece5475d",
   "metadata": {
    "papermill": {
     "duration": 0.026109,
     "end_time": "2022-01-05T15:56:37.831717",
     "exception": false,
     "start_time": "2022-01-05T15:56:37.805608",
     "status": "completed"
    },
    "tags": []
   },
   "source": [
    "# **Testando algoritimos Eigenfaces e Fisherfaces em reconhecimento de imagens**\n",
    "\n",
    "Neste trabalho, veremos algumas técnicas simples de reconhecimento de rostos. \n",
    "\n"
   ]
  },
  {
   "cell_type": "markdown",
   "id": "2755dd6e",
   "metadata": {
    "papermill": {
     "duration": 0.023845,
     "end_time": "2022-01-05T15:56:37.882898",
     "exception": false,
     "start_time": "2022-01-05T15:56:37.859053",
     "status": "completed"
    },
    "tags": []
   },
   "source": [
    "# **Banco de dados Jaffe**\n",
    "A base de dados JAFFE consiste em 213 imagens de diferentes expressões faciais de 10 mulheres japonesas diferentes. Cada mulher foi solicitada a fazer 7 expressões faciais (6 expressões faciais básicas e neutras) \n",
    "\n",
    "As faces com a expressão neutra serão usadas como imagens de treinamento e as demais expressões serão usados como imagens de teste.\n",
    "\n",
    "https://zenodo.org/record/3451524#.ZAYqcXbMLIU"
   ]
  },
  {
   "cell_type": "markdown",
   "id": "52102d98",
   "metadata": {},
   "source": [
    "## Pacotes que serão utilizados:"
   ]
  },
  {
   "cell_type": "code",
   "execution_count": 205,
   "id": "8e1b21be",
   "metadata": {
    "execution": {
     "iopub.execute_input": "2022-01-05T15:56:37.940278Z",
     "iopub.status.busy": "2022-01-05T15:56:37.939731Z",
     "iopub.status.idle": "2022-01-05T15:56:39.031129Z",
     "shell.execute_reply": "2022-01-05T15:56:39.030128Z",
     "shell.execute_reply.started": "2022-01-03T08:01:23.3474Z"
    },
    "papermill": {
     "duration": 1.12444,
     "end_time": "2022-01-05T15:56:39.031286",
     "exception": false,
     "start_time": "2022-01-05T15:56:37.906846",
     "status": "completed"
    },
    "tags": []
   },
   "outputs": [],
   "source": [
    "\n",
    "import os   # usado para interagir com o sistema operacional e no nosso caso para trabalhar com o nome e caminho da imagem\n",
    "from string import digits # retorna os digitos '0123456789'\n",
    "import pandas as pd    # biblioteca poderosa para manipulação e análise de dados \n",
    "import numpy as np\n",
    "from PIL import Image #Abre e identifica o arquivo de imagem fornecido.\n",
    "import cv2\n",
    "from matplotlib import pyplot as plt  # usado para plotar as imagens\n",
    "from sklearn import metrics #import classification_report, confusion_matrix,cohen_kappa_score"
   ]
  },
  {
   "cell_type": "markdown",
   "id": "19b39d90",
   "metadata": {
    "papermill": {
     "duration": 0.023446,
     "end_time": "2022-01-05T15:56:39.079168",
     "exception": false,
     "start_time": "2022-01-05T15:56:39.055722",
     "status": "completed"
    },
    "tags": []
   },
   "source": [
    "## **Lendo as imagens**"
   ]
  },
  {
   "cell_type": "code",
   "execution_count": 206,
   "id": "8e55eeac",
   "metadata": {
    "execution": {
     "iopub.execute_input": "2022-01-05T15:56:39.251353Z",
     "iopub.status.busy": "2022-01-05T15:56:39.250456Z",
     "iopub.status.idle": "2022-01-05T15:56:39.257023Z",
     "shell.execute_reply": "2022-01-05T15:56:39.257915Z",
     "shell.execute_reply.started": "2022-01-03T08:01:23.373625Z"
    },
    "papermill": {
     "duration": 0.034039,
     "end_time": "2022-01-05T15:56:39.258083",
     "exception": false,
     "start_time": "2022-01-05T15:56:39.224044",
     "status": "completed"
    },
    "tags": []
   },
   "outputs": [
    {
     "name": "stdout",
     "output_type": "stream",
     "text": [
      "                    caminho emoção InicialNome\n",
      "0    ./jaffe\\KA.AN1.39.tiff     AN          KA\n",
      "1    ./jaffe\\KA.AN2.40.tiff     AN          KA\n",
      "2    ./jaffe\\KA.AN3.41.tiff     AN          KA\n",
      "3    ./jaffe\\KA.DI1.42.tiff     DI          KA\n",
      "4    ./jaffe\\KA.DI2.43.tiff     DI          KA\n",
      "..                      ...    ...         ...\n",
      "208  ./jaffe\\YM.SA2.56.tiff     SA          YM\n",
      "209  ./jaffe\\YM.SA3.57.tiff     SA          YM\n",
      "210  ./jaffe\\YM.SU1.58.tiff     SU          YM\n",
      "211  ./jaffe\\YM.SU2.59.tiff     SU          YM\n",
      "212  ./jaffe\\YM.SU3.60.tiff     SU          YM\n",
      "\n",
      "[213 rows x 3 columns]\n"
     ]
    }
   ],
   "source": [
    "dirImage = './jaffe'  # diretório contendo as imagens\n",
    "images_path = os.listdir(dirImage) # caminho da imagem\n",
    "feelings = []                      # definindo vetor vazio para as emoçoes\n",
    "pessoas=[]\n",
    "for i, p in enumerate(images_path):\n",
    "    images_path[i] = os.path.join(dirImage, p)   #  # Retorna uma lista de nomes das imagens\n",
    "    remove_digits = str.maketrans('', '', digits)   # funçao que remove digitos\n",
    "    feeling = p.split('.')[1].translate(remove_digits) # criando o vetor de emoçoes \n",
    "    pessoa = p.split('.')[0] \n",
    "    feelings.append(feeling) \n",
    "    pessoas.append(pessoa)  # cria um vetor que contem o nome da mulher\n",
    "    \n",
    "dados = pd.DataFrame({'caminho': images_path, 'emoção': feelings, 'InicialNome': pessoas})  # usando pandas para construir um dataframe\n",
    "#dataframe será usado na proxima etapa que  irá separar as imagens por emoção.\n",
    "print(dados)"
   ]
  },
  {
   "cell_type": "code",
   "execution_count": 207,
   "id": "0c532300",
   "metadata": {},
   "outputs": [
    {
     "name": "stdout",
     "output_type": "stream",
     "text": [
      "[[105 102 108 ... 126 136 132]\n",
      " [102 107 110 ... 132 134 133]\n",
      " [ 99 106 112 ... 132 137 134]\n",
      " ...\n",
      " [ 63  61  58 ... 126 129 138]\n",
      " [ 59  63  55 ... 115 122 139]\n",
      " [ 55  56  51 ... 119 113 119]]\n"
     ]
    }
   ],
   "source": [
    "img = Image.open(\"./jaffe\\KA.AN1.39.tiff\")\n",
    "print(np.array(img))"
   ]
  },
  {
   "cell_type": "code",
   "execution_count": 208,
   "id": "dc93d55c",
   "metadata": {
    "execution": {
     "iopub.execute_input": "2022-01-05T15:56:39.523374Z",
     "iopub.status.busy": "2022-01-05T15:56:39.522682Z",
     "iopub.status.idle": "2022-01-05T15:56:39.525312Z",
     "shell.execute_reply": "2022-01-05T15:56:39.524837Z",
     "shell.execute_reply.started": "2022-01-03T08:01:23.424491Z"
    },
    "papermill": {
     "duration": 0.039111,
     "end_time": "2022-01-05T15:56:39.525468",
     "exception": false,
     "start_time": "2022-01-05T15:56:39.486357",
     "status": "completed"
    },
    "tags": []
   },
   "outputs": [],
   "source": [
    "##função que será usada para ler as imagens jaffe e separar de acordo com as emoçoes que serão usadas para teste\n",
    "# escalar que se refere À dimensao se refere ao tamnho da imagem(altura ou largura)\n",
    "def processamentoJaffe(data,dimensao):\n",
    "    triste = []\n",
    "    nojo = []\n",
    "    raiva = []\n",
    "    feliz = []\n",
    "    medo = []\n",
    "    surpreza = []\n",
    "    neutro = []\n",
    "    im = []\n",
    "    #“an”,   “di”, “fe”,    “ha”,          ne         “sa”          “su”\n",
    "    #raiva,  nojo, medo, felicidade, neutralidade, tristeza       surpresa\n",
    "    \n",
    "    dimensao=256 # dimensão de saida das imagens\n",
    "    \n",
    "    for i, row in data.iterrows():\n",
    "        #convert('L') --> converte a imagem para greyscale\n",
    "        img = Image.open(row['caminho']).convert('L').resize((dimensao,dimensao))    \n",
    "                    # resize pode ser usado para reduzir ou aumentar a imagem\n",
    "        img = np.array(img)\n",
    "        im.append(img)\n",
    "        feeling = row['emoção']\n",
    "        if feeling == 'FE':\n",
    "            medo.append(img)\n",
    "        elif (feeling == 'HA'):\n",
    "            feliz.append(img)\n",
    "        elif (feeling == 'SA'):\n",
    "            triste.append(img)\n",
    "        elif (feeling == 'NE'):\n",
    "            neutro.append(img)\n",
    "        elif (feeling == 'SU'):\n",
    "            surpreza.append(img)\n",
    "        elif (feeling == 'DI'):\n",
    "            nojo.append(img)\n",
    "        elif (feeling == 'AN'):\n",
    "            raiva.append(img)\n",
    "            \n",
    "    triste = np.array(triste)\n",
    "    nojo = np.array(nojo)\n",
    "    raiva = np.array(raiva)\n",
    "    feliz = np.array(feliz)\n",
    "    medo = np.array(medo)\n",
    "    surpreza = np.array(surpreza)\n",
    "    neutro = np.array(neutro)\n",
    "    \n",
    "\n",
    "    all_images = np.concatenate((triste, nojo , raiva, feliz, medo, surpreza, neutro))\n",
    "    return im, triste, nojo , raiva, feliz, medo, surpreza, neutro ,all_images"
   ]
  },
  {
   "cell_type": "markdown",
   "id": "8fd84d8a",
   "metadata": {},
   "source": [
    "## Chamando a função acima e atribunindo valor as variáveis"
   ]
  },
  {
   "cell_type": "code",
   "execution_count": 209,
   "id": "0a47ba23",
   "metadata": {},
   "outputs": [],
   "source": [
    "dimensao=256\n",
    "im, triste, nojo , raiva, feliz, medo, surpreza, neutro ,all_images = processamentoJaffe(dados,dimensao)\n"
   ]
  },
  {
   "cell_type": "code",
   "execution_count": 210,
   "id": "716f74bd",
   "metadata": {},
   "outputs": [
    {
     "data": {
      "text/html": [
       "<div>\n",
       "<style scoped>\n",
       "    .dataframe tbody tr th:only-of-type {\n",
       "        vertical-align: middle;\n",
       "    }\n",
       "\n",
       "    .dataframe tbody tr th {\n",
       "        vertical-align: top;\n",
       "    }\n",
       "\n",
       "    .dataframe thead th {\n",
       "        text-align: right;\n",
       "    }\n",
       "</style>\n",
       "<table border=\"1\" class=\"dataframe\">\n",
       "  <thead>\n",
       "    <tr style=\"text-align: right;\">\n",
       "      <th></th>\n",
       "      <th>imagem</th>\n",
       "      <th>emocao</th>\n",
       "      <th>id</th>\n",
       "    </tr>\n",
       "  </thead>\n",
       "  <tbody>\n",
       "    <tr>\n",
       "      <th>0</th>\n",
       "      <td>[[105, 102, 108, 118, 114, 117, 113, 122, 113,...</td>\n",
       "      <td>AN</td>\n",
       "      <td>KA</td>\n",
       "    </tr>\n",
       "    <tr>\n",
       "      <th>1</th>\n",
       "      <td>[[114, 115, 116, 118, 118, 114, 113, 118, 116,...</td>\n",
       "      <td>AN</td>\n",
       "      <td>KA</td>\n",
       "    </tr>\n",
       "    <tr>\n",
       "      <th>2</th>\n",
       "      <td>[[96, 98, 114, 103, 102, 103, 110, 104, 103, 1...</td>\n",
       "      <td>AN</td>\n",
       "      <td>KA</td>\n",
       "    </tr>\n",
       "    <tr>\n",
       "      <th>3</th>\n",
       "      <td>[[109, 118, 102, 108, 119, 109, 114, 110, 109,...</td>\n",
       "      <td>DI</td>\n",
       "      <td>KA</td>\n",
       "    </tr>\n",
       "    <tr>\n",
       "      <th>4</th>\n",
       "      <td>[[114, 118, 115, 114, 116, 107, 114, 120, 111,...</td>\n",
       "      <td>DI</td>\n",
       "      <td>KA</td>\n",
       "    </tr>\n",
       "  </tbody>\n",
       "</table>\n",
       "</div>"
      ],
      "text/plain": [
       "                                              imagem emocao  id\n",
       "0  [[105, 102, 108, 118, 114, 117, 113, 122, 113,...     AN  KA\n",
       "1  [[114, 115, 116, 118, 118, 114, 113, 118, 116,...     AN  KA\n",
       "2  [[96, 98, 114, 103, 102, 103, 110, 104, 103, 1...     AN  KA\n",
       "3  [[109, 118, 102, 108, 119, 109, 114, 110, 109,...     DI  KA\n",
       "4  [[114, 118, 115, 114, 116, 107, 114, 120, 111,...     DI  KA"
      ]
     },
     "execution_count": 210,
     "metadata": {},
     "output_type": "execute_result"
    }
   ],
   "source": [
    "dados= pd.DataFrame({'imagem': im, 'emocao': feelings, 'id': pessoas})\n",
    "dados.head()"
   ]
  },
  {
   "cell_type": "code",
   "execution_count": 211,
   "id": "b7accf21",
   "metadata": {},
   "outputs": [],
   "source": [
    "tabela = dados.groupby(['id','emocao']).size().unstack(1)\n"
   ]
  },
  {
   "cell_type": "code",
   "execution_count": 212,
   "id": "effa18bd",
   "metadata": {},
   "outputs": [
    {
     "data": {
      "text/html": [
       "<div>\n",
       "<style scoped>\n",
       "    .dataframe tbody tr th:only-of-type {\n",
       "        vertical-align: middle;\n",
       "    }\n",
       "\n",
       "    .dataframe tbody tr th {\n",
       "        vertical-align: top;\n",
       "    }\n",
       "\n",
       "    .dataframe thead th {\n",
       "        text-align: right;\n",
       "    }\n",
       "</style>\n",
       "<table border=\"1\" class=\"dataframe\">\n",
       "  <thead>\n",
       "    <tr style=\"text-align: right;\">\n",
       "      <th>emocao</th>\n",
       "      <th>AN</th>\n",
       "      <th>DI</th>\n",
       "      <th>FE</th>\n",
       "      <th>HA</th>\n",
       "      <th>NE</th>\n",
       "      <th>SA</th>\n",
       "      <th>SU</th>\n",
       "      <th>Total</th>\n",
       "    </tr>\n",
       "    <tr>\n",
       "      <th>id</th>\n",
       "      <th></th>\n",
       "      <th></th>\n",
       "      <th></th>\n",
       "      <th></th>\n",
       "      <th></th>\n",
       "      <th></th>\n",
       "      <th></th>\n",
       "      <th></th>\n",
       "    </tr>\n",
       "  </thead>\n",
       "  <tbody>\n",
       "    <tr>\n",
       "      <th>KA</th>\n",
       "      <td>3.0</td>\n",
       "      <td>3.0</td>\n",
       "      <td>4.0</td>\n",
       "      <td>4.0</td>\n",
       "      <td>3.0</td>\n",
       "      <td>3.0</td>\n",
       "      <td>3.0</td>\n",
       "      <td>23.0</td>\n",
       "    </tr>\n",
       "    <tr>\n",
       "      <th>KL</th>\n",
       "      <td>3.0</td>\n",
       "      <td>4.0</td>\n",
       "      <td>3.0</td>\n",
       "      <td>3.0</td>\n",
       "      <td>3.0</td>\n",
       "      <td>3.0</td>\n",
       "      <td>3.0</td>\n",
       "      <td>22.0</td>\n",
       "    </tr>\n",
       "    <tr>\n",
       "      <th>KM</th>\n",
       "      <td>3.0</td>\n",
       "      <td>2.0</td>\n",
       "      <td>3.0</td>\n",
       "      <td>4.0</td>\n",
       "      <td>3.0</td>\n",
       "      <td>4.0</td>\n",
       "      <td>3.0</td>\n",
       "      <td>22.0</td>\n",
       "    </tr>\n",
       "    <tr>\n",
       "      <th>KR</th>\n",
       "      <td>3.0</td>\n",
       "      <td>3.0</td>\n",
       "      <td>3.0</td>\n",
       "      <td>2.0</td>\n",
       "      <td>3.0</td>\n",
       "      <td>3.0</td>\n",
       "      <td>3.0</td>\n",
       "      <td>20.0</td>\n",
       "    </tr>\n",
       "    <tr>\n",
       "      <th>MK</th>\n",
       "      <td>3.0</td>\n",
       "      <td>3.0</td>\n",
       "      <td>3.0</td>\n",
       "      <td>3.0</td>\n",
       "      <td>3.0</td>\n",
       "      <td>3.0</td>\n",
       "      <td>3.0</td>\n",
       "      <td>21.0</td>\n",
       "    </tr>\n",
       "    <tr>\n",
       "      <th>NA</th>\n",
       "      <td>3.0</td>\n",
       "      <td>3.0</td>\n",
       "      <td>3.0</td>\n",
       "      <td>3.0</td>\n",
       "      <td>3.0</td>\n",
       "      <td>3.0</td>\n",
       "      <td>3.0</td>\n",
       "      <td>21.0</td>\n",
       "    </tr>\n",
       "    <tr>\n",
       "      <th>NM</th>\n",
       "      <td>3.0</td>\n",
       "      <td>2.0</td>\n",
       "      <td>3.0</td>\n",
       "      <td>3.0</td>\n",
       "      <td>3.0</td>\n",
       "      <td>3.0</td>\n",
       "      <td>3.0</td>\n",
       "      <td>20.0</td>\n",
       "    </tr>\n",
       "    <tr>\n",
       "      <th>TM</th>\n",
       "      <td>3.0</td>\n",
       "      <td>3.0</td>\n",
       "      <td>3.0</td>\n",
       "      <td>3.0</td>\n",
       "      <td>3.0</td>\n",
       "      <td>3.0</td>\n",
       "      <td>3.0</td>\n",
       "      <td>21.0</td>\n",
       "    </tr>\n",
       "    <tr>\n",
       "      <th>UY</th>\n",
       "      <td>3.0</td>\n",
       "      <td>3.0</td>\n",
       "      <td>3.0</td>\n",
       "      <td>3.0</td>\n",
       "      <td>3.0</td>\n",
       "      <td>3.0</td>\n",
       "      <td>3.0</td>\n",
       "      <td>21.0</td>\n",
       "    </tr>\n",
       "    <tr>\n",
       "      <th>YM</th>\n",
       "      <td>3.0</td>\n",
       "      <td>3.0</td>\n",
       "      <td>4.0</td>\n",
       "      <td>3.0</td>\n",
       "      <td>3.0</td>\n",
       "      <td>3.0</td>\n",
       "      <td>3.0</td>\n",
       "      <td>22.0</td>\n",
       "    </tr>\n",
       "    <tr>\n",
       "      <th>Total</th>\n",
       "      <td>30.0</td>\n",
       "      <td>29.0</td>\n",
       "      <td>32.0</td>\n",
       "      <td>31.0</td>\n",
       "      <td>30.0</td>\n",
       "      <td>31.0</td>\n",
       "      <td>30.0</td>\n",
       "      <td>213.0</td>\n",
       "    </tr>\n",
       "  </tbody>\n",
       "</table>\n",
       "</div>"
      ],
      "text/plain": [
       "emocao    AN    DI    FE    HA    NE    SA    SU  Total\n",
       "id                                                     \n",
       "KA       3.0   3.0   4.0   4.0   3.0   3.0   3.0   23.0\n",
       "KL       3.0   4.0   3.0   3.0   3.0   3.0   3.0   22.0\n",
       "KM       3.0   2.0   3.0   4.0   3.0   4.0   3.0   22.0\n",
       "KR       3.0   3.0   3.0   2.0   3.0   3.0   3.0   20.0\n",
       "MK       3.0   3.0   3.0   3.0   3.0   3.0   3.0   21.0\n",
       "NA       3.0   3.0   3.0   3.0   3.0   3.0   3.0   21.0\n",
       "NM       3.0   2.0   3.0   3.0   3.0   3.0   3.0   20.0\n",
       "TM       3.0   3.0   3.0   3.0   3.0   3.0   3.0   21.0\n",
       "UY       3.0   3.0   3.0   3.0   3.0   3.0   3.0   21.0\n",
       "YM       3.0   3.0   4.0   3.0   3.0   3.0   3.0   22.0\n",
       "Total   30.0  29.0  32.0  31.0  30.0  31.0  30.0  213.0"
      ]
     },
     "execution_count": 212,
     "metadata": {},
     "output_type": "execute_result"
    }
   ],
   "source": [
    "tabela.loc['Total',:]= tabela.sum(axis=0)\n",
    "tabela.loc[:,'Total'] = tabela.sum(axis=1)\n",
    "tabela"
   ]
  },
  {
   "cell_type": "markdown",
   "id": "54a4eb80",
   "metadata": {},
   "source": [
    "## Trocando rótulos de id para usar as funções de treinamento"
   ]
  },
  {
   "cell_type": "code",
   "execution_count": 213,
   "id": "a3e3464d",
   "metadata": {},
   "outputs": [
    {
     "name": "stderr",
     "output_type": "stream",
     "text": [
      "C:\\Users\\Usuario\\anaconda3\\envs\\envname\\lib\\site-packages\\pandas\\core\\missing.py:95: FutureWarning: elementwise comparison failed; returning scalar instead, but in the future will perform elementwise comparison\n",
      "  new_mask = arr == x\n"
     ]
    }
   ],
   "source": [
    "\n",
    "dados=dados.replace(\"KA\",0)\n",
    "dados=dados.replace(\"KL\",1)\n",
    "dados=dados.replace('KM',2)\n",
    "dados=dados.replace(\"KR\",3)\n",
    "dados=dados.replace(\"MK\",4)\n",
    "dados=dados.replace(\"NA\",5)\n",
    "dados=dados.replace(\"NM\",6)\n",
    "dados=dados.replace(\"TM\",7)\n",
    "dados=dados.replace(\"UY\",8)\n",
    "dados=dados.replace(\"YM\",9)\n"
   ]
  },
  {
   "cell_type": "code",
   "execution_count": 215,
   "id": "ba208425",
   "metadata": {},
   "outputs": [
    {
     "data": {
      "text/html": [
       "<div>\n",
       "<style scoped>\n",
       "    .dataframe tbody tr th:only-of-type {\n",
       "        vertical-align: middle;\n",
       "    }\n",
       "\n",
       "    .dataframe tbody tr th {\n",
       "        vertical-align: top;\n",
       "    }\n",
       "\n",
       "    .dataframe thead th {\n",
       "        text-align: right;\n",
       "    }\n",
       "</style>\n",
       "<table border=\"1\" class=\"dataframe\">\n",
       "  <thead>\n",
       "    <tr style=\"text-align: right;\">\n",
       "      <th></th>\n",
       "      <th>imagem</th>\n",
       "      <th>emocao</th>\n",
       "      <th>id</th>\n",
       "    </tr>\n",
       "  </thead>\n",
       "  <tbody>\n",
       "    <tr>\n",
       "      <th>0</th>\n",
       "      <td>[[105, 102, 108, 118, 114, 117, 113, 122, 113,...</td>\n",
       "      <td>AN</td>\n",
       "      <td>0</td>\n",
       "    </tr>\n",
       "    <tr>\n",
       "      <th>1</th>\n",
       "      <td>[[114, 115, 116, 118, 118, 114, 113, 118, 116,...</td>\n",
       "      <td>AN</td>\n",
       "      <td>0</td>\n",
       "    </tr>\n",
       "    <tr>\n",
       "      <th>2</th>\n",
       "      <td>[[96, 98, 114, 103, 102, 103, 110, 104, 103, 1...</td>\n",
       "      <td>AN</td>\n",
       "      <td>0</td>\n",
       "    </tr>\n",
       "    <tr>\n",
       "      <th>3</th>\n",
       "      <td>[[109, 118, 102, 108, 119, 109, 114, 110, 109,...</td>\n",
       "      <td>DI</td>\n",
       "      <td>0</td>\n",
       "    </tr>\n",
       "    <tr>\n",
       "      <th>4</th>\n",
       "      <td>[[114, 118, 115, 114, 116, 107, 114, 120, 111,...</td>\n",
       "      <td>DI</td>\n",
       "      <td>0</td>\n",
       "    </tr>\n",
       "  </tbody>\n",
       "</table>\n",
       "</div>"
      ],
      "text/plain": [
       "                                              imagem emocao  id\n",
       "0  [[105, 102, 108, 118, 114, 117, 113, 122, 113,...     AN   0\n",
       "1  [[114, 115, 116, 118, 118, 114, 113, 118, 116,...     AN   0\n",
       "2  [[96, 98, 114, 103, 102, 103, 110, 104, 103, 1...     AN   0\n",
       "3  [[109, 118, 102, 108, 119, 109, 114, 110, 109,...     DI   0\n",
       "4  [[114, 118, 115, 114, 116, 107, 114, 120, 111,...     DI   0"
      ]
     },
     "execution_count": 215,
     "metadata": {},
     "output_type": "execute_result"
    }
   ],
   "source": [
    "dados.head()"
   ]
  },
  {
   "cell_type": "markdown",
   "id": "35288887",
   "metadata": {},
   "source": [
    " # Treinando o modelo"
   ]
  },
  {
   "cell_type": "code",
   "execution_count": 216,
   "id": "6e146edd",
   "metadata": {},
   "outputs": [
    {
     "name": "stdout",
     "output_type": "stream",
     "text": [
      "[0 0 0 0 0 0 0 1 1 1 1 1 1 2 2 2 2 2 2 2 3 3 3 3 3 4 4 4 4 4 4 5 5 5 5 5 5\n",
      " 6 6 6 6 6 6 7 7 7 7 7 7 8 8 8 8 8 8 9 9 9 9 9 9]\n",
      "Treinando...\n",
      "Treinamento realizado\n"
     ]
    }
   ],
   "source": [
    "# digite a emoção de treinamento: \n",
    "emoção=[\"NE\",\"HA\"]   # preencha o espaço \" \" caso for treinar com 2 expressões. \n",
    "#Se for treinar com apenas uma expressão, pode deixar emoção=[\"NE\",\"\"]\n",
    "\n",
    "#“AN”,     “DI”,    “FE”,    “HA”,          \"NE\"         “SA”          “SU”\n",
    "#raiva,    nojo,    medo,   felicidade,   neutralidade, tristeza     surpresa\n",
    "\n",
    "\n",
    "dados2 = dados[(dados[\"emocao\"]==emoção[0]) | (dados[\"emocao\"]==emoção[1])] # banco de dados apenas com a(s) espressão(es) de treinamento\n",
    "#dados2 = dados\n",
    "faces = np.array(dados2[\"imagem\"])\n",
    "ids = np.array(dados2[\"id\"])\n",
    "\n",
    "\n",
    "print(ids)\n",
    "\n",
    "eigenface = cv2.face.EigenFaceRecognizer_create(9) #Função para usar o método eigenface\n",
    "fisherface = cv2.face.FisherFaceRecognizer_create() #Função para usar o método fisherface\n",
    "\n",
    "print(\"Treinando...\")\n",
    "\n",
    "classificadorEigen = eigenface.train(faces, ids)  # treinando o modelo\n",
    "classificadorFisher = fisherface.train(faces, ids) \n",
    "\n",
    "print(\"Treinamento realizado\")"
   ]
  },
  {
   "cell_type": "markdown",
   "id": "68588870",
   "metadata": {},
   "source": [
    "# Classificadores"
   ]
  },
  {
   "cell_type": "code",
   "execution_count": 197,
   "id": "b405986b",
   "metadata": {},
   "outputs": [
    {
     "data": {
      "text/plain": [
       "152"
      ]
     },
     "execution_count": 197,
     "metadata": {},
     "output_type": "execute_result"
    }
   ],
   "source": [
    "#definindo Imagens de teste\n",
    "teste = dados[dados[\"emocao\"] !=\"NE\"]  # tirando as emoções para usar como teste\n",
    "teste = teste[teste[\"emocao\"] !=\"HA\"]\n",
    "\n",
    "idteste= teste[\"id\"].tolist()\n",
    "imteste= teste[\"imagem\"].tolist()\n",
    "\n",
    "len(imteste)"
   ]
  },
  {
   "cell_type": "code",
   "execution_count": 220,
   "id": "71e6b911",
   "metadata": {},
   "outputs": [],
   "source": [
    "def classificador(emocao,idreal):   # funçao que retorna os resultados\n",
    "  \n",
    "    predEigen=[]\n",
    "    confEigen=[]\n",
    "    predFisher=[]\n",
    "    confFisher=[]\n",
    "\n",
    "\n",
    "    for i in range(len(emocao)):\n",
    "        resultado = eigenface.predict(emocao[i])\n",
    "        predEigen.append(resultado[0])  # retorna o id predito\n",
    "        confEigen.append(resultado[1])  \n",
    "\n",
    "        resultado = fisherface.predict(emocao[i])\n",
    "        predFisher.append(resultado[0])\n",
    "        confFisher.append(resultado[1])\n",
    "\n",
    "\n",
    "\n",
    "    predicao = pd.DataFrame({\"idreal\": idreal,'eigenpredic': predEigen, 'eigenconf': confEigen,\n",
    "                            'fisherpredic': predFisher, 'fisherconf': confFisher})\n",
    "\n",
    "    #print(predicao)\n",
    "    \n",
    "        #Matriz de confusao\n",
    "    eigenMatrix=metrics.confusion_matrix(idreal,predEigen)\n",
    "    fisherMatrix=metrics.confusion_matrix(idreal,predFisher)\n",
    "    \n",
    "    eigenresult= metrics.classification_report(idreal,predEigen)\n",
    "    fisherresult= metrics.classification_report(idreal,predFisher)\n",
    "\n",
    "    #print(\"\\n  Eigenface  \\n\",eigenMatrix,\"\\n\",metrics.classification_report(idreal,predEigen),\n",
    "    #      \"\\n Fisherface \\n\",fisherMatrix,\"\\n\",metrics.classification_report(idreal,predFisher))\n",
    "    \n",
    "    #print(\"acuracia\",metrics.accuracy_score(idreal,predEigen)) # acuracia\n",
    "    #print(\"precisao\",metrics.balanced_accuracy_score(idreal,predEigen)) # Calcule a precisão balanceada.\n",
    "\n",
    "    #print('\\n')\n",
    "    \n",
    "    return eigenMatrix,fisherMatrix,eigenresult,fisherresult"
   ]
  },
  {
   "cell_type": "code",
   "execution_count": 223,
   "id": "1c99dfb9",
   "metadata": {},
   "outputs": [],
   "source": [
    "# chamando o classificador\n",
    "eigenMatrix,fisherMatrix,eigenresult,fisherresult=classificador(imteste,idteste)"
   ]
  },
  {
   "cell_type": "markdown",
   "id": "9af1f69a",
   "metadata": {},
   "source": [
    "## Resultados"
   ]
  },
  {
   "cell_type": "code",
   "execution_count": 200,
   "id": "132362fb",
   "metadata": {},
   "outputs": [
    {
     "data": {
      "text/html": [
       "<div>\n",
       "<style scoped>\n",
       "    .dataframe tbody tr th:only-of-type {\n",
       "        vertical-align: middle;\n",
       "    }\n",
       "\n",
       "    .dataframe tbody tr th {\n",
       "        vertical-align: top;\n",
       "    }\n",
       "\n",
       "    .dataframe thead th {\n",
       "        text-align: right;\n",
       "    }\n",
       "</style>\n",
       "<table border=\"1\" class=\"dataframe\">\n",
       "  <thead>\n",
       "    <tr style=\"text-align: right;\">\n",
       "      <th></th>\n",
       "      <th>0</th>\n",
       "      <th>1</th>\n",
       "      <th>2</th>\n",
       "      <th>3</th>\n",
       "      <th>4</th>\n",
       "      <th>5</th>\n",
       "      <th>6</th>\n",
       "      <th>7</th>\n",
       "      <th>8</th>\n",
       "      <th>9</th>\n",
       "    </tr>\n",
       "  </thead>\n",
       "  <tbody>\n",
       "    <tr>\n",
       "      <th>0</th>\n",
       "      <td>12</td>\n",
       "      <td>0</td>\n",
       "      <td>0</td>\n",
       "      <td>0</td>\n",
       "      <td>2</td>\n",
       "      <td>2</td>\n",
       "      <td>0</td>\n",
       "      <td>0</td>\n",
       "      <td>0</td>\n",
       "      <td>0</td>\n",
       "    </tr>\n",
       "    <tr>\n",
       "      <th>1</th>\n",
       "      <td>0</td>\n",
       "      <td>16</td>\n",
       "      <td>0</td>\n",
       "      <td>0</td>\n",
       "      <td>0</td>\n",
       "      <td>0</td>\n",
       "      <td>0</td>\n",
       "      <td>0</td>\n",
       "      <td>0</td>\n",
       "      <td>0</td>\n",
       "    </tr>\n",
       "    <tr>\n",
       "      <th>2</th>\n",
       "      <td>1</td>\n",
       "      <td>0</td>\n",
       "      <td>14</td>\n",
       "      <td>0</td>\n",
       "      <td>0</td>\n",
       "      <td>0</td>\n",
       "      <td>0</td>\n",
       "      <td>0</td>\n",
       "      <td>0</td>\n",
       "      <td>0</td>\n",
       "    </tr>\n",
       "    <tr>\n",
       "      <th>3</th>\n",
       "      <td>0</td>\n",
       "      <td>0</td>\n",
       "      <td>0</td>\n",
       "      <td>14</td>\n",
       "      <td>0</td>\n",
       "      <td>1</td>\n",
       "      <td>0</td>\n",
       "      <td>0</td>\n",
       "      <td>0</td>\n",
       "      <td>0</td>\n",
       "    </tr>\n",
       "    <tr>\n",
       "      <th>4</th>\n",
       "      <td>0</td>\n",
       "      <td>0</td>\n",
       "      <td>0</td>\n",
       "      <td>0</td>\n",
       "      <td>14</td>\n",
       "      <td>1</td>\n",
       "      <td>0</td>\n",
       "      <td>0</td>\n",
       "      <td>0</td>\n",
       "      <td>0</td>\n",
       "    </tr>\n",
       "    <tr>\n",
       "      <th>5</th>\n",
       "      <td>1</td>\n",
       "      <td>0</td>\n",
       "      <td>0</td>\n",
       "      <td>0</td>\n",
       "      <td>2</td>\n",
       "      <td>12</td>\n",
       "      <td>0</td>\n",
       "      <td>0</td>\n",
       "      <td>0</td>\n",
       "      <td>0</td>\n",
       "    </tr>\n",
       "    <tr>\n",
       "      <th>6</th>\n",
       "      <td>1</td>\n",
       "      <td>0</td>\n",
       "      <td>0</td>\n",
       "      <td>0</td>\n",
       "      <td>1</td>\n",
       "      <td>0</td>\n",
       "      <td>12</td>\n",
       "      <td>0</td>\n",
       "      <td>0</td>\n",
       "      <td>0</td>\n",
       "    </tr>\n",
       "    <tr>\n",
       "      <th>7</th>\n",
       "      <td>0</td>\n",
       "      <td>0</td>\n",
       "      <td>0</td>\n",
       "      <td>0</td>\n",
       "      <td>0</td>\n",
       "      <td>0</td>\n",
       "      <td>0</td>\n",
       "      <td>12</td>\n",
       "      <td>0</td>\n",
       "      <td>3</td>\n",
       "    </tr>\n",
       "    <tr>\n",
       "      <th>8</th>\n",
       "      <td>0</td>\n",
       "      <td>0</td>\n",
       "      <td>0</td>\n",
       "      <td>0</td>\n",
       "      <td>0</td>\n",
       "      <td>0</td>\n",
       "      <td>0</td>\n",
       "      <td>0</td>\n",
       "      <td>15</td>\n",
       "      <td>0</td>\n",
       "    </tr>\n",
       "    <tr>\n",
       "      <th>9</th>\n",
       "      <td>0</td>\n",
       "      <td>0</td>\n",
       "      <td>0</td>\n",
       "      <td>0</td>\n",
       "      <td>0</td>\n",
       "      <td>0</td>\n",
       "      <td>0</td>\n",
       "      <td>3</td>\n",
       "      <td>0</td>\n",
       "      <td>13</td>\n",
       "    </tr>\n",
       "  </tbody>\n",
       "</table>\n",
       "</div>"
      ],
      "text/plain": [
       "    0   1   2   3   4   5   6   7   8   9\n",
       "0  12   0   0   0   2   2   0   0   0   0\n",
       "1   0  16   0   0   0   0   0   0   0   0\n",
       "2   1   0  14   0   0   0   0   0   0   0\n",
       "3   0   0   0  14   0   1   0   0   0   0\n",
       "4   0   0   0   0  14   1   0   0   0   0\n",
       "5   1   0   0   0   2  12   0   0   0   0\n",
       "6   1   0   0   0   1   0  12   0   0   0\n",
       "7   0   0   0   0   0   0   0  12   0   3\n",
       "8   0   0   0   0   0   0   0   0  15   0\n",
       "9   0   0   0   0   0   0   0   3   0  13"
      ]
     },
     "execution_count": 200,
     "metadata": {},
     "output_type": "execute_result"
    }
   ],
   "source": [
    "tab = pd.DataFrame(eigenMatrix)\n",
    "tab"
   ]
  },
  {
   "cell_type": "code",
   "execution_count": 224,
   "id": "76011939",
   "metadata": {},
   "outputs": [
    {
     "data": {
      "text/html": [
       "<div>\n",
       "<style scoped>\n",
       "    .dataframe tbody tr th:only-of-type {\n",
       "        vertical-align: middle;\n",
       "    }\n",
       "\n",
       "    .dataframe tbody tr th {\n",
       "        vertical-align: top;\n",
       "    }\n",
       "\n",
       "    .dataframe thead th {\n",
       "        text-align: right;\n",
       "    }\n",
       "</style>\n",
       "<table border=\"1\" class=\"dataframe\">\n",
       "  <thead>\n",
       "    <tr style=\"text-align: right;\">\n",
       "      <th></th>\n",
       "      <th>0</th>\n",
       "      <th>1</th>\n",
       "      <th>2</th>\n",
       "      <th>3</th>\n",
       "      <th>4</th>\n",
       "      <th>5</th>\n",
       "      <th>6</th>\n",
       "      <th>7</th>\n",
       "      <th>8</th>\n",
       "      <th>9</th>\n",
       "    </tr>\n",
       "  </thead>\n",
       "  <tbody>\n",
       "    <tr>\n",
       "      <th>0</th>\n",
       "      <td>16</td>\n",
       "      <td>0</td>\n",
       "      <td>0</td>\n",
       "      <td>0</td>\n",
       "      <td>0</td>\n",
       "      <td>0</td>\n",
       "      <td>0</td>\n",
       "      <td>0</td>\n",
       "      <td>0</td>\n",
       "      <td>0</td>\n",
       "    </tr>\n",
       "    <tr>\n",
       "      <th>1</th>\n",
       "      <td>0</td>\n",
       "      <td>16</td>\n",
       "      <td>0</td>\n",
       "      <td>0</td>\n",
       "      <td>0</td>\n",
       "      <td>0</td>\n",
       "      <td>0</td>\n",
       "      <td>0</td>\n",
       "      <td>0</td>\n",
       "      <td>0</td>\n",
       "    </tr>\n",
       "    <tr>\n",
       "      <th>2</th>\n",
       "      <td>0</td>\n",
       "      <td>0</td>\n",
       "      <td>15</td>\n",
       "      <td>0</td>\n",
       "      <td>0</td>\n",
       "      <td>0</td>\n",
       "      <td>0</td>\n",
       "      <td>0</td>\n",
       "      <td>0</td>\n",
       "      <td>0</td>\n",
       "    </tr>\n",
       "    <tr>\n",
       "      <th>3</th>\n",
       "      <td>0</td>\n",
       "      <td>0</td>\n",
       "      <td>0</td>\n",
       "      <td>15</td>\n",
       "      <td>0</td>\n",
       "      <td>0</td>\n",
       "      <td>0</td>\n",
       "      <td>0</td>\n",
       "      <td>0</td>\n",
       "      <td>0</td>\n",
       "    </tr>\n",
       "    <tr>\n",
       "      <th>4</th>\n",
       "      <td>0</td>\n",
       "      <td>0</td>\n",
       "      <td>0</td>\n",
       "      <td>0</td>\n",
       "      <td>14</td>\n",
       "      <td>1</td>\n",
       "      <td>0</td>\n",
       "      <td>0</td>\n",
       "      <td>0</td>\n",
       "      <td>0</td>\n",
       "    </tr>\n",
       "    <tr>\n",
       "      <th>5</th>\n",
       "      <td>0</td>\n",
       "      <td>0</td>\n",
       "      <td>0</td>\n",
       "      <td>0</td>\n",
       "      <td>0</td>\n",
       "      <td>15</td>\n",
       "      <td>0</td>\n",
       "      <td>0</td>\n",
       "      <td>0</td>\n",
       "      <td>0</td>\n",
       "    </tr>\n",
       "    <tr>\n",
       "      <th>6</th>\n",
       "      <td>0</td>\n",
       "      <td>0</td>\n",
       "      <td>0</td>\n",
       "      <td>0</td>\n",
       "      <td>0</td>\n",
       "      <td>0</td>\n",
       "      <td>13</td>\n",
       "      <td>0</td>\n",
       "      <td>1</td>\n",
       "      <td>0</td>\n",
       "    </tr>\n",
       "    <tr>\n",
       "      <th>7</th>\n",
       "      <td>0</td>\n",
       "      <td>0</td>\n",
       "      <td>0</td>\n",
       "      <td>0</td>\n",
       "      <td>0</td>\n",
       "      <td>0</td>\n",
       "      <td>0</td>\n",
       "      <td>12</td>\n",
       "      <td>0</td>\n",
       "      <td>3</td>\n",
       "    </tr>\n",
       "    <tr>\n",
       "      <th>8</th>\n",
       "      <td>0</td>\n",
       "      <td>0</td>\n",
       "      <td>0</td>\n",
       "      <td>0</td>\n",
       "      <td>0</td>\n",
       "      <td>0</td>\n",
       "      <td>0</td>\n",
       "      <td>0</td>\n",
       "      <td>15</td>\n",
       "      <td>0</td>\n",
       "    </tr>\n",
       "    <tr>\n",
       "      <th>9</th>\n",
       "      <td>0</td>\n",
       "      <td>0</td>\n",
       "      <td>0</td>\n",
       "      <td>0</td>\n",
       "      <td>0</td>\n",
       "      <td>0</td>\n",
       "      <td>0</td>\n",
       "      <td>0</td>\n",
       "      <td>0</td>\n",
       "      <td>16</td>\n",
       "    </tr>\n",
       "  </tbody>\n",
       "</table>\n",
       "</div>"
      ],
      "text/plain": [
       "    0   1   2   3   4   5   6   7   8   9\n",
       "0  16   0   0   0   0   0   0   0   0   0\n",
       "1   0  16   0   0   0   0   0   0   0   0\n",
       "2   0   0  15   0   0   0   0   0   0   0\n",
       "3   0   0   0  15   0   0   0   0   0   0\n",
       "4   0   0   0   0  14   1   0   0   0   0\n",
       "5   0   0   0   0   0  15   0   0   0   0\n",
       "6   0   0   0   0   0   0  13   0   1   0\n",
       "7   0   0   0   0   0   0   0  12   0   3\n",
       "8   0   0   0   0   0   0   0   0  15   0\n",
       "9   0   0   0   0   0   0   0   0   0  16"
      ]
     },
     "execution_count": 224,
     "metadata": {},
     "output_type": "execute_result"
    }
   ],
   "source": [
    "tab = pd.DataFrame(fisherMatrix)\n",
    "tab"
   ]
  },
  {
   "cell_type": "code",
   "execution_count": 201,
   "id": "8f77f874",
   "metadata": {},
   "outputs": [
    {
     "name": "stdout",
     "output_type": "stream",
     "text": [
      "              precision    recall  f1-score   support\n",
      "\n",
      "           0       0.80      0.75      0.77        16\n",
      "           1       1.00      1.00      1.00        16\n",
      "           2       1.00      0.93      0.97        15\n",
      "           3       1.00      0.93      0.97        15\n",
      "           4       0.74      0.93      0.82        15\n",
      "           5       0.75      0.80      0.77        15\n",
      "           6       1.00      0.86      0.92        14\n",
      "           7       0.80      0.80      0.80        15\n",
      "           8       1.00      1.00      1.00        15\n",
      "           9       0.81      0.81      0.81        16\n",
      "\n",
      "    accuracy                           0.88       152\n",
      "   macro avg       0.89      0.88      0.88       152\n",
      "weighted avg       0.89      0.88      0.88       152\n",
      "\n"
     ]
    }
   ],
   "source": [
    "print(eigenresult)\n"
   ]
  },
  {
   "cell_type": "markdown",
   "id": "b0492c23",
   "metadata": {},
   "source": [
    "## Cauculando a Sensibilidade e Especificidade"
   ]
  },
  {
   "cell_type": "code",
   "execution_count": 225,
   "id": "697c384d",
   "metadata": {},
   "outputs": [],
   "source": [
    "    emocao=imteste\n",
    "    predEigen=[]\n",
    "    predFisher=[]\n",
    "\n",
    "\n",
    "\n",
    "    for i in range(len(emocao)):\n",
    "        resultado = eigenface.predict(emocao[i])\n",
    "        predEigen.append(resultado[0])  # retorna o id predito \n",
    "\n",
    "        resultado = fisherface.predict(emocao[i])\n",
    "        predFisher.append(resultado[0])\n"
   ]
  },
  {
   "cell_type": "code",
   "execution_count": 227,
   "id": "808b8437",
   "metadata": {},
   "outputs": [
    {
     "name": "stdout",
     "output_type": "stream",
     "text": [
      "   label  specificity  recall  precision  f_score  support\n",
      "0      0       1.0000  1.0000     1.0000   1.0000       16\n",
      "1      1       1.0000  1.0000     1.0000   1.0000       16\n",
      "2      2       1.0000  1.0000     1.0000   1.0000       15\n",
      "3      3       1.0000  1.0000     1.0000   1.0000       15\n",
      "4      4       1.0000  0.9333     1.0000   0.9655       15\n",
      "5      5       0.9927  1.0000     0.9375   0.9677       15\n",
      "6      6       1.0000  0.9286     1.0000   0.9630       14\n",
      "7      7       1.0000  0.8000     1.0000   0.8889       15\n",
      "8      8       0.9927  1.0000     0.9375   0.9677       15\n",
      "9      9       0.9779  1.0000     0.8421   0.9143       16\n",
      "======================================================\n",
      "acuracia 0.9671\n",
      "specificity    0.9962\n",
      "recall         0.9671\n",
      "precision      0.9710\n",
      "f_score        0.9668\n",
      "dtype: float64\n",
      "======================================================\n"
     ]
    }
   ],
   "source": [
    "\n",
    "\n",
    "y_true=idteste\n",
    "y_pred=predFisher   # trocar pelo valor predito\n",
    "#y_pred=predEigen   \n",
    "\n",
    "labels=[0,1,2,3,4,5,6,7,8,9]\n",
    "\n",
    "from sklearn.metrics import precision_recall_fscore_support\n",
    "\n",
    "result=[]\n",
    "for label in labels:\n",
    "    precision, recall, f_score, support = precision_recall_fscore_support(np.array(y_true)==label,np.array(y_pred)==label)\n",
    "    result.append([label,recall[0],recall[1],precision[1],f_score[1],support[1]])\n",
    "df=pd.DataFrame(result,columns=[\"label\",\"specificity\",\"recall\",\"precision\",\"f_score\",\"support\"])\n",
    "print(df.round(4))\n",
    "\n",
    "print(\"======================================================\")\n",
    "\n",
    "print(\"acuracia\",metrics.accuracy_score(idteste,y_pred).round(4)) # acuracia\n",
    "\n",
    "w=df[\"support\"]/df[\"support\"].sum()\n",
    "df_summary=df[[\"specificity\",\"recall\",\"precision\",\"f_score\"]].apply(lambda col:np.sum(col*w),axis=0)\n",
    "print(df_summary.round(4))\n",
    "\n",
    "print(\"======================================================\")\n",
    "\n"
   ]
  },
  {
   "cell_type": "markdown",
   "id": "4508e50c",
   "metadata": {},
   "source": [
    " # Normalização e cálculo de componentes principais de forma manual"
   ]
  },
  {
   "cell_type": "code",
   "execution_count": 228,
   "id": "b6b3d066",
   "metadata": {},
   "outputs": [
    {
     "name": "stdout",
     "output_type": "stream",
     "text": [
      "(256, 256, 30)\n"
     ]
    },
    {
     "data": {
      "text/plain": [
       "(256, 256, 30)"
      ]
     },
     "execution_count": 228,
     "metadata": {},
     "output_type": "execute_result"
    }
   ],
   "source": [
    "#images = np.concatenate((neutro,feliz))\n",
    "images = neutro\n",
    "\n",
    "images = images.transpose(1,2,0)\n",
    "images = images/255\n",
    "print(images.shape)\n",
    "\n",
    "M = images.shape[2] #samples\n",
    "N = images.shape[0] #Dimension\n",
    "mean = np.mean(images, axis = 2)\n",
    "demeaned = images - mean[...,None] # Subtract average face from all faces.\n",
    "demeaned.shape"
   ]
  },
  {
   "cell_type": "code",
   "execution_count": 229,
   "id": "61c37fda",
   "metadata": {},
   "outputs": [
    {
     "data": {
      "text/plain": [
       "array([[ 0.08509804,  0.08509804,  0.02235294, ...,  0.01843137,\n",
       "        -0.05607843,  0.0027451 ],\n",
       "       [ 0.08928105,  0.10104575,  0.03045752, ..., -0.0048366 ,\n",
       "        -0.05581699, -0.0048366 ],\n",
       "       [ 0.09254902,  0.09647059, -0.01333333, ...,  0.00235294,\n",
       "        -0.03294118, -0.03294118],\n",
       "       ...,\n",
       "       [ 0.05320261,  0.07281046, -0.02522876, ...,  0.02183007,\n",
       "        -0.01738562,  0.0296732 ],\n",
       "       [ 0.04732026,  0.03947712, -0.0075817 , ..., -0.01150327,\n",
       "         0.00418301,  0.03555556],\n",
       "       [ 0.0379085 ,  0.06143791,  0.00261438, ...,  0.00653595,\n",
       "        -0.01699346,  0.02222222]])"
      ]
     },
     "execution_count": 229,
     "metadata": {},
     "output_type": "execute_result"
    }
   ],
   "source": [
    "demeaned[3]"
   ]
  },
  {
   "cell_type": "code",
   "execution_count": 230,
   "id": "6fe01253",
   "metadata": {},
   "outputs": [
    {
     "data": {
      "text/plain": [
       "(-0.5, 255.5, 255.5, -0.5)"
      ]
     },
     "execution_count": 230,
     "metadata": {},
     "output_type": "execute_result"
    },
    {
     "data": {
      "image/png": "[encoded data removed]",
      "text/plain": [
       "<Figure size 216x216 with 1 Axes>"
      ]
     },
     "metadata": {
      "needs_background": "light"
     },
     "output_type": "display_data"
    }
   ],
   "source": [
    "plt.figure(figsize=(3,3))\n",
    "plt.imshow(mean, cmap = 'gray')\n",
    "plt.title('Average All Faces')\n",
    "plt.axis('off')"
   ]
  },
  {
   "cell_type": "code",
   "execution_count": 231,
   "id": "218f1529",
   "metadata": {},
   "outputs": [],
   "source": [
    "from numpy import linalg\n",
    "def compute_eigenface(demeaned):\n",
    "    dem_flat = np.zeros((N*N, M))\n",
    "    for i in range(M):\n",
    "        dem_flat[:,i] = demeaned[:,:,i].flatten()\n",
    "\n",
    "    L = np.matmul(dem_flat.transpose(), dem_flat)\n",
    "    mu, v = linalg.eig(L)  #Calcula os autovalores e os autovetores à direita de uma matriz quadrada.\n",
    "    idx = mu.argsort()[::-1]\n",
    "    mu = mu[idx]\n",
    "    v = v[:,idx]\n",
    "    u = np.matmul(dem_flat, v)\n",
    "    return mu,v,u"
   ]
  },
  {
   "cell_type": "code",
   "execution_count": 232,
   "id": "79581b57",
   "metadata": {},
   "outputs": [],
   "source": [
    "mu,v,u = compute_eigenface(demeaned)"
   ]
  },
  {
   "cell_type": "markdown",
   "id": "102c2626",
   "metadata": {},
   "source": [
    "eigfaces = np.zeros((N,N,M))#64,64,213\n",
    "for i in range(M):\n",
    "    eigfaces[:,:,i] = u[:,i].reshape(N,N)\n",
    "    \n",
    "fig = plt.figure(figsize=(100, 100))\n",
    "for i in range(30):\n",
    "    plt.subplot(7,5,i+1)\n",
    "    plt.imshow(eigfaces[:,:,i],cmap = 'gray')\n",
    "    plt.axis('off')\n",
    "plt.suptitle('All eigenfaces' ,size=213)"
   ]
  },
  {
   "cell_type": "markdown",
   "id": "8d38c680",
   "metadata": {},
   "source": [
    "# Escolhendo o número de componentes "
   ]
  },
  {
   "cell_type": "code",
   "execution_count": 247,
   "id": "e8ffdfeb",
   "metadata": {},
   "outputs": [],
   "source": [
    "autovalores = eigenface.getEigenValues()\n",
    "#autovalores = fisherface.getEigenValues()"
   ]
  },
  {
   "cell_type": "code",
   "execution_count": 248,
   "id": "1adf3523",
   "metadata": {},
   "outputs": [
    {
     "data": {
      "text/plain": [
       "array([[20292451.70310924],\n",
       "       [18219900.69737743],\n",
       "       [12066696.38907869],\n",
       "       [ 5867529.86815644],\n",
       "       [ 4717292.2295335 ],\n",
       "       [ 3871184.47424274],\n",
       "       [ 3386280.42022061],\n",
       "       [ 3060361.48591378],\n",
       "       [ 2090724.26303776]])"
      ]
     },
     "execution_count": 248,
     "metadata": {},
     "output_type": "execute_result"
    }
   ],
   "source": [
    "autovalores"
   ]
  },
  {
   "cell_type": "code",
   "execution_count": 249,
   "id": "9130573c",
   "metadata": {},
   "outputs": [],
   "source": [
    "#usado para o fisherfaces\n",
    "#autovalores=np.array([[1.94049825e+05], [8.43722968e+03], [2.82873031e+03], [2.62786940e+03],\n",
    "#        [7.00004068e+02], [4.69067661e+02], [3.02929506e+02], [1.35830216e+02],  [9.07643171e+01]])"
   ]
  },
  {
   "cell_type": "code",
   "execution_count": 250,
   "id": "4f818260",
   "metadata": {},
   "outputs": [
    {
     "data": {
      "text/plain": [
       "array([[20292451.70310924],\n",
       "       [18219900.69737743],\n",
       "       [12066696.38907869],\n",
       "       [ 5867529.86815644],\n",
       "       [ 4717292.2295335 ],\n",
       "       [ 3871184.47424274],\n",
       "       [ 3386280.42022061],\n",
       "       [ 3060361.48591378],\n",
       "       [ 2090724.26303776]])"
      ]
     },
     "execution_count": 250,
     "metadata": {},
     "output_type": "execute_result"
    }
   ],
   "source": [
    "autovalores"
   ]
  },
  {
   "cell_type": "code",
   "execution_count": 251,
   "id": "14c8d1be",
   "metadata": {},
   "outputs": [],
   "source": [
    "def compute_cum(autovalores):    #função para calcular o a variancia acumulada\n",
    "    total_var = sum(autovalores)\n",
    "    cum_var = np.cumsum(autovalores)/total_var\n",
    "    num_comp = range(1,len(autovalores)+1)\n",
    "    return cum_var, num_comp"
   ]
  },
  {
   "cell_type": "code",
   "execution_count": 252,
   "id": "b94f9fad",
   "metadata": {},
   "outputs": [
    {
     "data": {
      "text/plain": [
       "array([73572421.5306702])"
      ]
     },
     "execution_count": 252,
     "metadata": {},
     "output_type": "execute_result"
    }
   ],
   "source": [
    "sum(autovalores)"
   ]
  },
  {
   "cell_type": "code",
   "execution_count": 253,
   "id": "ab8b1930",
   "metadata": {},
   "outputs": [],
   "source": [
    "cum_var, num_comp = compute_cum(autovalores)"
   ]
  },
  {
   "cell_type": "code",
   "execution_count": 254,
   "id": "acda6bb3",
   "metadata": {},
   "outputs": [
    {
     "data": {
      "text/plain": [
       "array([0.27581601, 0.5234618 , 0.68747294, 0.76722469, 0.83134236,\n",
       "       0.8839597 , 0.92998619, 0.97158277, 1.        ])"
      ]
     },
     "execution_count": 254,
     "metadata": {},
     "output_type": "execute_result"
    }
   ],
   "source": [
    "cum_var"
   ]
  },
  {
   "cell_type": "code",
   "execution_count": 255,
   "id": "d34276ae",
   "metadata": {},
   "outputs": [
    {
     "data": {
      "text/plain": [
       "range(1, 10)"
      ]
     },
     "execution_count": 255,
     "metadata": {},
     "output_type": "execute_result"
    }
   ],
   "source": [
    "num_comp"
   ]
  },
  {
   "cell_type": "code",
   "execution_count": 256,
   "id": "b669a8aa",
   "metadata": {},
   "outputs": [
    {
     "data": {
      "image/png": "[encoded data removed]",
      "text/plain": [
       "<Figure size 432x288 with 1 Axes>"
      ]
     },
     "metadata": {
      "needs_background": "light"
     },
     "output_type": "display_data"
    }
   ],
   "source": [
    "plt.xlabel('Número de Componentes')\n",
    "plt.ylabel('Variância Acumulada')\n",
    "\n",
    "#plt.figure(dpi=150)\n",
    "plt.scatter(num_comp, cum_var,color='#b40505')\n",
    "#plt.axvline(x = 9,color = 'black',linewidth=0.5)\n",
    "plt.show() #Exibir todas as figuras abertas.\n"
   ]
  },
  {
   "cell_type": "code",
   "execution_count": 257,
   "id": "1772ecf6",
   "metadata": {},
   "outputs": [
    {
     "data": {
      "text/html": [
       "<div>\n",
       "<style scoped>\n",
       "    .dataframe tbody tr th:only-of-type {\n",
       "        vertical-align: middle;\n",
       "    }\n",
       "\n",
       "    .dataframe tbody tr th {\n",
       "        vertical-align: top;\n",
       "    }\n",
       "\n",
       "    .dataframe thead th {\n",
       "        text-align: right;\n",
       "    }\n",
       "</style>\n",
       "<table border=\"1\" class=\"dataframe\">\n",
       "  <thead>\n",
       "    <tr style=\"text-align: right;\">\n",
       "      <th></th>\n",
       "      <th>0</th>\n",
       "    </tr>\n",
       "  </thead>\n",
       "  <tbody>\n",
       "    <tr>\n",
       "      <th>0.275816</th>\n",
       "      <td>1</td>\n",
       "    </tr>\n",
       "    <tr>\n",
       "      <th>0.523462</th>\n",
       "      <td>2</td>\n",
       "    </tr>\n",
       "    <tr>\n",
       "      <th>0.687473</th>\n",
       "      <td>3</td>\n",
       "    </tr>\n",
       "    <tr>\n",
       "      <th>0.767225</th>\n",
       "      <td>4</td>\n",
       "    </tr>\n",
       "    <tr>\n",
       "      <th>0.831342</th>\n",
       "      <td>5</td>\n",
       "    </tr>\n",
       "    <tr>\n",
       "      <th>0.883960</th>\n",
       "      <td>6</td>\n",
       "    </tr>\n",
       "    <tr>\n",
       "      <th>0.929986</th>\n",
       "      <td>7</td>\n",
       "    </tr>\n",
       "    <tr>\n",
       "      <th>0.971583</th>\n",
       "      <td>8</td>\n",
       "    </tr>\n",
       "    <tr>\n",
       "      <th>1.000000</th>\n",
       "      <td>9</td>\n",
       "    </tr>\n",
       "  </tbody>\n",
       "</table>\n",
       "</div>"
      ],
      "text/plain": [
       "          0\n",
       "0.275816  1\n",
       "0.523462  2\n",
       "0.687473  3\n",
       "0.767225  4\n",
       "0.831342  5\n",
       "0.883960  6\n",
       "0.929986  7\n",
       "0.971583  8\n",
       "1.000000  9"
      ]
     },
     "execution_count": 257,
     "metadata": {},
     "output_type": "execute_result"
    }
   ],
   "source": [
    "tab=pd.DataFrame(num_comp,cum_var)\n",
    "plt.show()\n",
    "tab"
   ]
  },
  {
   "cell_type": "code",
   "execution_count": null,
   "id": "6e1e98b3",
   "metadata": {},
   "outputs": [],
   "source": []
  },
  {
   "cell_type": "code",
   "execution_count": null,
   "id": "78e36f7c",
   "metadata": {},
   "outputs": [],
   "source": []
  }
 ],
 "metadata": {
  "kernelspec": {
   "display_name": "Python 3 (ipykernel)",
   "language": "python",
   "name": "python3"
  },
  "language_info": {
   "codemirror_mode": {
    "name": "ipython",
    "version": 3
   },
   "file_extension": ".py",
   "mimetype": "text/x-python",
   "name": "python",
   "nbconvert_exporter": "python",
   "pygments_lexer": "ipython3",
   "version": "3.10.6"
  },
  "papermill": {
   "default_parameters": {},
   "duration": 94.053151,
   "end_time": "2022-01-05T15:58:03.854836",
   "environment_variables": {},
   "exception": null,
   "input_path": "__notebook__.ipynb",
   "output_path": "__notebook__.ipynb",
   "parameters": {},
   "start_time": "2022-01-05T15:56:29.801685",
   "version": "2.3.3"
  },
  "vscode": {
   "interpreter": {
    "hash": "c63d8c7d738c2960218a10995aedf0a7f67a49a231e71037adf0440953cdb45b"
   }
  }
 },
 "nbformat": 4,
 "nbformat_minor": 5
}
